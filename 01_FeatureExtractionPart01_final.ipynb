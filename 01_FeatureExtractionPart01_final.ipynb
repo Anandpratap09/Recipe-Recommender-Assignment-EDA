{
 "cells": [
  {
   "cell_type": "markdown",
   "id": "640bd3f7",
   "metadata": {},
   "source": [
    "## Initial Setup"
   ]
  },
  {
   "cell_type": "code",
   "execution_count": 1,
   "id": "04ed2518",
   "metadata": {},
   "outputs": [
    {
     "data": {
      "application/vnd.jupyter.widget-view+json": {
       "model_id": "73d4ee18abd74221865f45c9b0d006b9",
       "version_major": 2,
       "version_minor": 0
      },
      "text/plain": [
       "VBox()"
      ]
     },
     "metadata": {},
     "output_type": "display_data"
    },
    {
     "name": "stdout",
     "output_type": "stream",
     "text": [
      "Starting Spark application\n"
     ]
    },
    {
     "data": {
      "text/html": [
       "<table>\n",
       "<tr><th>ID</th><th>YARN Application ID</th><th>Kind</th><th>State</th><th>Spark UI</th><th>Driver log</th><th>User</th><th>Current session?</th></tr><tr><td>1</td><td>application_1693814926276_0002</td><td>pyspark</td><td>idle</td><td><a target=\"_blank\" href=\"http://ip-10-0-5-13.ec2.internal:20888/proxy/application_1693814926276_0002/\" class=\"emr-proxy-link\" emr-resource=\"j-RPUVU1R2JDGI\n",
       "\" application-id=\"application_1693814926276_0002\">Link</a></td><td><a target=\"_blank\" href=\"http://ip-10-0-5-13.ec2.internal:8042/node/containerlogs/container_1693814926276_0002_01_000001/livy\" >Link</a></td><td>None</td><td>✔</td></tr></table>"
      ],
      "text/plain": [
       "<IPython.core.display.HTML object>"
      ]
     },
     "metadata": {},
     "output_type": "display_data"
    },
    {
     "data": {
      "application/vnd.jupyter.widget-view+json": {
       "model_id": "",
       "version_major": 2,
       "version_minor": 0
      },
      "text/plain": [
       "FloatProgress(value=0.0, bar_style='info', description='Progress:', layout=Layout(height='25px', width='50%'),…"
      ]
     },
     "metadata": {},
     "output_type": "display_data"
    },
    {
     "name": "stdout",
     "output_type": "stream",
     "text": [
      "SparkSession available as 'spark'.\n"
     ]
    },
    {
     "data": {
      "application/vnd.jupyter.widget-view+json": {
       "model_id": "",
       "version_major": 2,
       "version_minor": 0
      },
      "text/plain": [
       "FloatProgress(value=0.0, bar_style='info', description='Progress:', layout=Layout(height='25px', width='50%'),…"
      ]
     },
     "metadata": {},
     "output_type": "display_data"
    }
   ],
   "source": [
    "from pyspark.sql import SparkSession"
   ]
  },
  {
   "cell_type": "code",
   "execution_count": 2,
   "id": "494d9d27",
   "metadata": {},
   "outputs": [
    {
     "data": {
      "application/vnd.jupyter.widget-view+json": {
       "model_id": "f9d2c2c247674554b4bb6c9694e178ba",
       "version_major": 2,
       "version_minor": 0
      },
      "text/plain": [
       "VBox()"
      ]
     },
     "metadata": {},
     "output_type": "display_data"
    },
    {
     "data": {
      "application/vnd.jupyter.widget-view+json": {
       "model_id": "",
       "version_major": 2,
       "version_minor": 0
      },
      "text/plain": [
       "FloatProgress(value=0.0, bar_style='info', description='Progress:', layout=Layout(height='25px', width='50%'),…"
      ]
     },
     "metadata": {},
     "output_type": "display_data"
    }
   ],
   "source": [
    "from pyspark.sql import SparkSession\n",
    "spark = SparkSession.builder.appName(\"Basics\").getOrCreate()"
   ]
  },
  {
   "cell_type": "code",
   "execution_count": 3,
   "id": "5a3d6550",
   "metadata": {},
   "outputs": [
    {
     "data": {
      "application/vnd.jupyter.widget-view+json": {
       "model_id": "aa9eac36a8034696a8613bd42bef867d",
       "version_major": 2,
       "version_minor": 0
      },
      "text/plain": [
       "VBox()"
      ]
     },
     "metadata": {},
     "output_type": "display_data"
    },
    {
     "data": {
      "application/vnd.jupyter.widget-view+json": {
       "model_id": "",
       "version_major": 2,
       "version_minor": 0
      },
      "text/plain": [
       "FloatProgress(value=0.0, bar_style='info', description='Progress:', layout=Layout(height='25px', width='50%'),…"
      ]
     },
     "metadata": {},
     "output_type": "display_data"
    },
    {
     "name": "stdout",
     "output_type": "stream",
     "text": [
      "<pyspark.sql.session.SparkSession object at 0x7f2f8c55f450>"
     ]
    }
   ],
   "source": [
    "spark"
   ]
  },
  {
   "cell_type": "code",
   "execution_count": 4,
   "id": "d956d7bf",
   "metadata": {},
   "outputs": [
    {
     "data": {
      "application/vnd.jupyter.widget-view+json": {
       "model_id": "378f27a5fcf048d78026fb504bb4a92a",
       "version_major": 2,
       "version_minor": 0
      },
      "text/plain": [
       "VBox()"
      ]
     },
     "metadata": {},
     "output_type": "display_data"
    },
    {
     "data": {
      "application/vnd.jupyter.widget-view+json": {
       "model_id": "",
       "version_major": 2,
       "version_minor": 0
      },
      "text/plain": [
       "FloatProgress(value=0.0, bar_style='info', description='Progress:', layout=Layout(height='25px', width='50%'),…"
      ]
     },
     "metadata": {},
     "output_type": "display_data"
    }
   ],
   "source": [
    "from pyspark.sql import functions as F\n",
    "\n",
    "# Import for typecasting columns\n",
    "from pyspark.sql.types import IntegerType,BooleanType,DateType,FloatType,StringType\n",
    "from pyspark.sql.types import ArrayType"
   ]
  },
  {
   "cell_type": "markdown",
   "id": "652d9b65",
   "metadata": {},
   "source": [
    " ## <font color='red'>Task 01: Read the data </font>"
   ]
  },
  {
   "cell_type": "markdown",
   "id": "d45cb47b",
   "metadata": {},
   "source": [
    "<font color='red'> Ensure you read the data so that all columns are read with the right data type.\n",
    "The \"right\" datatype at this stage are shown in the expected output cell below. </font>"
   ]
  },
  {
   "cell_type": "markdown",
   "id": "d4ef807f",
   "metadata": {},
   "source": [
    "<font color='red'>\n",
    "    \n",
    "**Sample input:** \n",
    "This task does not have an input. \n",
    "\n",
    "**Sample output:** \n",
    "Dataframe stored in the variable ```raw_recipes_df```.  </font>"
   ]
  },
  {
   "attachments": {
    "task1.png": {
     "image/png": "[encoded data removed]"
    }
   },
   "cell_type": "markdown",
   "id": "2a2f1588",
   "metadata": {},
   "source": [
    "![task1.png](attachment:task1.png)"
   ]
  },
  {
   "cell_type": "markdown",
   "id": "c0b0c21a",
   "metadata": {},
   "source": [
    "<font color='red'> We have included some test cases given below. You can use them to check if you have completed the task correctly.  </font>"
   ]
  },
  {
   "cell_type": "markdown",
   "id": "ad8a30e9",
   "metadata": {},
   "source": [
    "### <font color='blue'>Solution to Task 1 </font>"
   ]
  },
  {
   "cell_type": "markdown",
   "id": "d4fe11a3",
   "metadata": {},
   "source": [
    "<font color='blue'>complete the code in the following cell </font>"
   ]
  },
  {
   "cell_type": "code",
   "execution_count": 18,
   "id": "e20dae66",
   "metadata": {},
   "outputs": [
    {
     "data": {
      "application/vnd.jupyter.widget-view+json": {
       "model_id": "9a4efd4a06d9422a81a11d1e2b2dfed1",
       "version_major": 2,
       "version_minor": 0
      },
      "text/plain": [
       "VBox()"
      ]
     },
     "metadata": {},
     "output_type": "display_data"
    },
    {
     "data": {
      "application/vnd.jupyter.widget-view+json": {
       "model_id": "",
       "version_major": 2,
       "version_minor": 0
      },
      "text/plain": [
       "FloatProgress(value=0.0, bar_style='info', description='Progress:', layout=Layout(height='25px', width='50%'),…"
      ]
     },
     "metadata": {},
     "output_type": "display_data"
    },
    {
     "name": "stdout",
     "output_type": "stream",
     "text": [
      "+--------------------+------+-------+--------------+-------------------+--------------------+--------------------+-------+--------------------+--------------------+--------------------+-------------+\n",
      "|                name|    id|minutes|contributor_id|          submitted|                tags|           nutrition|n_steps|               steps|         description|         ingredients|n_ingredients|\n",
      "+--------------------+------+-------+--------------+-------------------+--------------------+--------------------+-------+--------------------+--------------------+--------------------+-------------+\n",
      "|arriba   baked wi...|137739|     55|         47892|2005-09-16 00:00:00|['60-minutes-or-l...|[51.5, 0.0, 13.0,...|     11|['make a choice a...|autumn is my favo...|['winter squash',...|            7|\n",
      "|a bit different  ...| 31490|     30|         26278|2002-06-17 00:00:00|['30-minutes-or-l...|[173.4, 18.0, 0.0...|      9|['preheat oven to...|this recipe calls...|['prepared pizza ...|            6|\n",
      "|all in the kitche...|112140|    130|        196586|2005-02-25 00:00:00|['time-to-make', ...|[269.8, 22.0, 32....|      6|['brown ground be...|this modified ver...|['ground beef', '...|           13|\n",
      "|  alouette  potatoes| 59389|     45|         68585|2003-04-14 00:00:00|['60-minutes-or-l...|[368.1, 17.0, 10....|     11|['place potatoes ...|this is a super e...|['spreadable chee...|           11|\n",
      "|amish  tomato ket...| 44061|    190|         41706|2002-10-25 00:00:00|['weeknight', 'ti...|[352.9, 1.0, 337....|      5|['mix all ingredi...|my dh's amish mot...|['tomato juice', ...|            8|\n",
      "|apple a day  milk...|  5289|      0|          1533|1999-12-06 00:00:00|['15-minutes-or-l...|[160.2, 10.0, 55....|      4|['combine ingredi...|                    |['milk', 'vanilla...|            4|\n",
      "|aww  marinated ol...| 25274|     15|         21730|2002-04-14 00:00:00|['15-minutes-or-l...|[380.7, 53.0, 7.0...|      4|['toast the fenne...|my italian mil wa...|['fennel seeds', ...|            9|\n",
      "|backyard style  b...| 67888|    120|         10404|2003-07-30 00:00:00|['weeknight', 'ti...|[1109.5, 83.0, 37...|     10|['in a medium sau...|this recipe is po...|['pork spareribs'...|           22|\n",
      "|bananas 4 ice cre...| 70971|    180|        102353|2003-09-10 00:00:00|['weeknight', 'ti...|[4270.8, 254.0, 1...|      8|['crumble cookies...|                    |['chocolate sandw...|            6|\n",
      "|beat this  banana...| 75452|     70|         15892|2003-11-04 00:00:00|['weeknight', 'ti...|[2669.3, 160.0, 9...|     12|['preheat oven to...| from ann hodgman's |['sugar', 'unsalt...|            9|\n",
      "|berry  good sandw...|109439|      5|         49168|2005-01-25 00:00:00|['15-minutes-or-l...|[79.2, 3.0, 58.0,...|      2|['in medium size ...|horseradish is on...|['whole berry cra...|            3|\n",
      "|better than sex  ...| 42198|   1460|         41531|2002-10-03 00:00:00|['weeknight', 'ti...|[734.1, 66.0, 199...|      8|['crush vanilla w...|simple but sexy. ...|['vanilla wafers'...|            7|\n",
      "|better then bush ...| 67547|   2970|         85627|2003-07-26 00:00:00|['weeknight', 'ti...|[462.4, 28.0, 214...|      9|['in a very large...|i'd have to say t...|['great northern ...|           13|\n",
      "|boat house  colla...|107517|    525|        137696|2005-01-03 00:00:00|['time-to-make', ...|[315.8, 0.0, 202....|      7|['put prepared gr...|my boss gave me t...|['collard greens'...|            7|\n",
      "|calm your nerves ...| 39959|      5|         37449|2002-09-10 00:00:00|['15-minutes-or-l...|[8.2, 0.0, 0.0, 0...|      6|['combine herbs',...|this will prove a...|['gentian root', ...|            5|\n",
      "|chicken lickin  g...| 63986|    500|         14664|2003-06-06 00:00:00|['weeknight', 'ti...|[105.7, 8.0, 0.0,...|      5|['dredge pork cho...|here's and old st...|['lean pork chops...|            7|\n",
      "|      chile rellenos| 43026|     45|         52268|2002-10-14 00:00:00|['60-minutes-or-l...|[94.0, 10.0, 0.0,...|      9|['drain green chi...|a favorite from a...|['egg roll wrap',...|            5|\n",
      "|      chinese  candy| 23933|     15|         35268|2002-03-29 00:00:00|['15-minutes-or-l...|[232.7, 21.0, 77....|      4|['melt butterscot...|a little differen...|['butterscotch ch...|            3|\n",
      "|  chinese  chop suey|  8559|     70|          4481|2001-01-27 00:00:00|['weeknight', 'ti...|[395.4, 31.0, 20....|      8|['brown ground me...|easy one-pot dinn...|['celery', 'onion...|            7|\n",
      "|cream  of caulifl...| 23850|    110|          3288|2002-03-28 00:00:00|['lactose', 'week...|[174.2, 4.0, 24.0...|     10|['heat the oil or...|this is a dairy f...|['canola oil', 'o...|           16|\n",
      "+--------------------+------+-------+--------------+-------------------+--------------------+--------------------+-------+--------------------+--------------------+--------------------+-------------+\n",
      "only showing top 20 rows"
     ]
    }
   ],
   "source": [
    "# Task 01 Cell 1 out of 1\n",
    "\n",
    "raw_recipes_df = spark.read.csv(\"s3://demobucketpavi/RAW_recipes_cleaned .csv\",header=True,inferSchema=True)\n",
    "# argument 1, Add an argument to communicate to the compiler that there is a header in the raw data.\n",
    "# argument 2, Add an argument to ask the complier to estimate the data types for all columns. \n",
    "                               \n",
    "raw_recipes_df.show()\n",
    "# Please forward the exact name of data frames and columns as suggested in the code. \n",
    "# It will ensure that the assert commands function correctly.  "
   ]
  },
  {
   "cell_type": "markdown",
   "id": "62407b85",
   "metadata": {},
   "source": [
    "<font color='blue'>Test cases for Task 01</font>"
   ]
  },
  {
   "cell_type": "code",
   "execution_count": 19,
   "id": "a5b8d8b3",
   "metadata": {
    "scrolled": true
   },
   "outputs": [
    {
     "data": {
      "application/vnd.jupyter.widget-view+json": {
       "model_id": "19476af60e0a42ba8e94aa51c265f992",
       "version_major": 2,
       "version_minor": 0
      },
      "text/plain": [
       "VBox()"
      ]
     },
     "metadata": {},
     "output_type": "display_data"
    },
    {
     "data": {
      "application/vnd.jupyter.widget-view+json": {
       "model_id": "",
       "version_major": 2,
       "version_minor": 0
      },
      "text/plain": [
       "FloatProgress(value=0.0, bar_style='info', description='Progress:', layout=Layout(height='25px', width='50%'),…"
      ]
     },
     "metadata": {},
     "output_type": "display_data"
    }
   ],
   "source": [
    "# Code check cell\n",
    "# Do not edit cells with assert commands\n",
    "# If an error is shown after running this cell, please recheck your code.  \n",
    "\n",
    "assert raw_recipes_df.count() == 231637, \"There is a mistake in reading the data.\"\n",
    "assert len(raw_recipes_df.columns) == 12, \"There is a mistake in reading the data.\"\n",
    "assert raw_recipes_df.schema[\"minutes\"].dataType == IntegerType(), \"The data types have not been read correctly.\"\n",
    "assert raw_recipes_df.schema[\"tags\"].dataType == StringType(), \"The data types have not been read correctly.\"\n",
    "assert raw_recipes_df.schema[\"n_ingredients\"].dataType == IntegerType(), \"The data types have not been read correctly.\""
   ]
  },
  {
   "cell_type": "markdown",
   "id": "abbd80be",
   "metadata": {},
   "source": [
    " #### <font color='red'>If all test cases pass task 01 ends </font>"
   ]
  },
  {
   "cell_type": "markdown",
   "id": "8d240566",
   "metadata": {},
   "source": [
    "## Extract ```nutrition``` values "
   ]
  },
  {
   "cell_type": "code",
   "execution_count": 20,
   "id": "e60b6807",
   "metadata": {},
   "outputs": [
    {
     "data": {
      "application/vnd.jupyter.widget-view+json": {
       "model_id": "1b9f5535dbfb42eb8655edb48844e39e",
       "version_major": 2,
       "version_minor": 0
      },
      "text/plain": [
       "VBox()"
      ]
     },
     "metadata": {},
     "output_type": "display_data"
    },
    {
     "data": {
      "application/vnd.jupyter.widget-view+json": {
       "model_id": "",
       "version_major": 2,
       "version_minor": 0
      },
      "text/plain": [
       "FloatProgress(value=0.0, bar_style='info', description='Progress:', layout=Layout(height='25px', width='50%'),…"
      ]
     },
     "metadata": {},
     "output_type": "display_data"
    }
   ],
   "source": [
    "# List of nutrition columns\n",
    "\n",
    "nutrition_column_names = ['calories',\n",
    "                          'total_fat_PDV',\n",
    "                          'sugar_PDV',\n",
    "                          'sodium_PDV',\n",
    "                          'protein_PDV',\n",
    "                          'saturated_fat_PDV',\n",
    "                          'carbohydrates_PDV']"
   ]
  },
  {
   "cell_type": "markdown",
   "id": "383e4450",
   "metadata": {},
   "source": [
    " ## <font color='red'>Task 02: Extract individual features from the nutrition column."
   ]
  },
  {
   "cell_type": "markdown",
   "id": "a836d795",
   "metadata": {},
   "source": [
    "<font color='red'> \n",
    "As read by the spark compiler, the nutrition column is a string column when it should be an array of float values. Each row in the nutrition column contains seven values. Each value represents nutrition information. \n",
    "    \n",
    "    \n",
    "**Your task is to separate the array into seven individual columns.**\n",
    "    \n",
    "Write a code that takes in the nutrition column from ```raw_recipes_df``` dataframe, and extracts individual values into seven different columns named calories, total fat (PDV), sugar (PDV), sodium (PDV), protein (PDV), saturated fat (PDV), and carbohydrates (PDV).\n",
    "\n",
    "</font>"
   ]
  },
  {
   "cell_type": "markdown",
   "id": "7d47c797",
   "metadata": {},
   "source": [
    "<font color='red'>\n",
    "    \n",
    "### **Sample input:** \n",
    "    \n",
    "The image below shows a subset of columns from the ```raw_recipes_df``` dataset. The datatype of the nutrition column is a string.\n",
    " </font>"
   ]
  },
  {
   "attachments": {
    "task2.01.png": {
     "image/png": "[encoded data removed]"
    }
   },
   "cell_type": "markdown",
   "id": "b3c1e1cb",
   "metadata": {},
   "source": [
    "![task2.01.png](attachment:task2.01.png)"
   ]
  },
  {
   "cell_type": "markdown",
   "id": "df30c694",
   "metadata": {},
   "source": [
    "<font color='red'>\n",
    "    \n",
    "### **Sample Output:** \n",
    "    \n",
    "The image below shows a subset of columns from the ```raw_recipes_df``` dataset after the extraction of nutrition values is completed. The datatype of the individual nutrition column is has to be float.\n",
    " </font>"
   ]
  },
  {
   "attachments": {
    "task2.03.png": {
     "image/png": "[encoded data removed]"
    }
   },
   "cell_type": "markdown",
   "id": "f684f24f",
   "metadata": {},
   "source": [
    "![task2.03.png](attachment:task2.03.png)"
   ]
  },
  {
   "cell_type": "markdown",
   "id": "5240146f",
   "metadata": {},
   "source": [
    "<font color='red'>\n",
    "\n",
    "This task is further divided into two sub tasks \n",
    "    \n",
    "### Task 2.1 \n",
    "    \n",
    "Use string operations to remove the square brackets from the nutrition column. \n",
    "\n",
    "Sample input: nutrition column \n",
    "    </font>"
   ]
  },
  {
   "attachments": {
    "task2.01.png": {
     "image/png": "[encoded data removed]"
    }
   },
   "cell_type": "markdown",
   "id": "19ac3c26",
   "metadata": {},
   "source": [
    "![task2.01.png](attachment:task2.01.png)"
   ]
  },
  {
   "cell_type": "markdown",
   "id": "5f221977",
   "metadata": {},
   "source": [
    "<font color='red'>\n",
    "\n",
    "\n",
    "**Sample output:** \n",
    "Nutrition column without the brackets. \n",
    "    \n",
    "</font>"
   ]
  },
  {
   "attachments": {
    "task2.02.png": {
     "image/png": "[encoded data removed]"
    }
   },
   "cell_type": "markdown",
   "id": "7af331b0",
   "metadata": {},
   "source": [
    "![task2.02.png](attachment:task2.02.png)"
   ]
  },
  {
   "cell_type": "markdown",
   "id": "39bdc7a5",
   "metadata": {},
   "source": [
    "<font color='red'>\n",
    "\n",
    "### Task 2.2 \n",
    "    \n",
    "Task 2.2 Split the nutrition column into seven individual columns and cast the new columns to float values. \n",
    "\n",
    "First split the column on using the comma delimiter. Then you can use a for loop to iterate over the column names declared in the variable ```nutrition_column_names```, inside each iteration write a code to extract the value at a specific index of the nutrition array  \n",
    "\n",
    "**Sample input:**\n",
    "Nutrition column without the brackets.\n",
    "    \n",
    "</font>"
   ]
  },
  {
   "attachments": {
    "task2.02.png": {
     "image/png": "[encoded data removed]"
    }
   },
   "cell_type": "markdown",
   "id": "31435271",
   "metadata": {},
   "source": [
    "![task2.02.png](attachment:task2.02.png)"
   ]
  },
  {
   "cell_type": "markdown",
   "id": "4655f67c",
   "metadata": {},
   "source": [
    "<font color='red'>\n",
    "\n",
    "**Sample output:**\n",
    "Nutrition column split into multiple \n",
    "    \n",
    "</font>"
   ]
  },
  {
   "attachments": {
    "task2.03.png": {
     "image/png": "[encoded data removed]"
    }
   },
   "cell_type": "markdown",
   "id": "884e23e8",
   "metadata": {},
   "source": [
    "![task2.03.png](attachment:task2.03.png)"
   ]
  },
  {
   "cell_type": "markdown",
   "id": "7b1c05c0",
   "metadata": {},
   "source": [
    "<font color='red'> We have included some test cases given below. You can use them to check if you have completed the task correctly.  </font>"
   ]
  },
  {
   "cell_type": "markdown",
   "id": "da588328",
   "metadata": {},
   "source": [
    "### <font color='blue'>Solution to Task 2 </font>"
   ]
  },
  {
   "cell_type": "markdown",
   "id": "c51ea51c",
   "metadata": {},
   "source": [
    "<font color='blue'>complete the code in the following cell </font>"
   ]
  },
  {
   "cell_type": "code",
   "execution_count": 21,
   "id": "1083715f",
   "metadata": {},
   "outputs": [
    {
     "data": {
      "application/vnd.jupyter.widget-view+json": {
       "model_id": "2a135caa2dc444188c46f80c6fb8fa1c",
       "version_major": 2,
       "version_minor": 0
      },
      "text/plain": [
       "VBox()"
      ]
     },
     "metadata": {},
     "output_type": "display_data"
    },
    {
     "data": {
      "application/vnd.jupyter.widget-view+json": {
       "model_id": "",
       "version_major": 2,
       "version_minor": 0
      },
      "text/plain": [
       "FloatProgress(value=0.0, bar_style='info', description='Progress:', layout=Layout(height='25px', width='50%'),…"
      ]
     },
     "metadata": {},
     "output_type": "display_data"
    },
    {
     "name": "stdout",
     "output_type": "stream",
     "text": [
      "+--------------------+------+-------+--------------+-------------------+--------------------+--------------------+-------+--------------------+--------------------+--------------------+-------------+\n",
      "|                name|    id|minutes|contributor_id|          submitted|                tags|           nutrition|n_steps|               steps|         description|         ingredients|n_ingredients|\n",
      "+--------------------+------+-------+--------------+-------------------+--------------------+--------------------+-------+--------------------+--------------------+--------------------+-------------+\n",
      "|arriba   baked wi...|137739|     55|         47892|2005-09-16 00:00:00|['60-minutes-or-l...|51.5, 0.0, 13.0, ...|     11|['make a choice a...|autumn is my favo...|['winter squash',...|            7|\n",
      "|a bit different  ...| 31490|     30|         26278|2002-06-17 00:00:00|['30-minutes-or-l...|173.4, 18.0, 0.0,...|      9|['preheat oven to...|this recipe calls...|['prepared pizza ...|            6|\n",
      "|all in the kitche...|112140|    130|        196586|2005-02-25 00:00:00|['time-to-make', ...|269.8, 22.0, 32.0...|      6|['brown ground be...|this modified ver...|['ground beef', '...|           13|\n",
      "|  alouette  potatoes| 59389|     45|         68585|2003-04-14 00:00:00|['60-minutes-or-l...|368.1, 17.0, 10.0...|     11|['place potatoes ...|this is a super e...|['spreadable chee...|           11|\n",
      "|amish  tomato ket...| 44061|    190|         41706|2002-10-25 00:00:00|['weeknight', 'ti...|352.9, 1.0, 337.0...|      5|['mix all ingredi...|my dh's amish mot...|['tomato juice', ...|            8|\n",
      "|apple a day  milk...|  5289|      0|          1533|1999-12-06 00:00:00|['15-minutes-or-l...|160.2, 10.0, 55.0...|      4|['combine ingredi...|                    |['milk', 'vanilla...|            4|\n",
      "|aww  marinated ol...| 25274|     15|         21730|2002-04-14 00:00:00|['15-minutes-or-l...|380.7, 53.0, 7.0,...|      4|['toast the fenne...|my italian mil wa...|['fennel seeds', ...|            9|\n",
      "|backyard style  b...| 67888|    120|         10404|2003-07-30 00:00:00|['weeknight', 'ti...|1109.5, 83.0, 378...|     10|['in a medium sau...|this recipe is po...|['pork spareribs'...|           22|\n",
      "|bananas 4 ice cre...| 70971|    180|        102353|2003-09-10 00:00:00|['weeknight', 'ti...|4270.8, 254.0, 13...|      8|['crumble cookies...|                    |['chocolate sandw...|            6|\n",
      "|beat this  banana...| 75452|     70|         15892|2003-11-04 00:00:00|['weeknight', 'ti...|2669.3, 160.0, 97...|     12|['preheat oven to...| from ann hodgman's |['sugar', 'unsalt...|            9|\n",
      "|berry  good sandw...|109439|      5|         49168|2005-01-25 00:00:00|['15-minutes-or-l...|79.2, 3.0, 58.0, ...|      2|['in medium size ...|horseradish is on...|['whole berry cra...|            3|\n",
      "|better than sex  ...| 42198|   1460|         41531|2002-10-03 00:00:00|['weeknight', 'ti...|734.1, 66.0, 199....|      8|['crush vanilla w...|simple but sexy. ...|['vanilla wafers'...|            7|\n",
      "|better then bush ...| 67547|   2970|         85627|2003-07-26 00:00:00|['weeknight', 'ti...|462.4, 28.0, 214....|      9|['in a very large...|i'd have to say t...|['great northern ...|           13|\n",
      "|boat house  colla...|107517|    525|        137696|2005-01-03 00:00:00|['time-to-make', ...|315.8, 0.0, 202.0...|      7|['put prepared gr...|my boss gave me t...|['collard greens'...|            7|\n",
      "|calm your nerves ...| 39959|      5|         37449|2002-09-10 00:00:00|['15-minutes-or-l...|8.2, 0.0, 0.0, 0....|      6|['combine herbs',...|this will prove a...|['gentian root', ...|            5|\n",
      "|chicken lickin  g...| 63986|    500|         14664|2003-06-06 00:00:00|['weeknight', 'ti...|105.7, 8.0, 0.0, ...|      5|['dredge pork cho...|here's and old st...|['lean pork chops...|            7|\n",
      "|      chile rellenos| 43026|     45|         52268|2002-10-14 00:00:00|['60-minutes-or-l...|94.0, 10.0, 0.0, ...|      9|['drain green chi...|a favorite from a...|['egg roll wrap',...|            5|\n",
      "|      chinese  candy| 23933|     15|         35268|2002-03-29 00:00:00|['15-minutes-or-l...|232.7, 21.0, 77.0...|      4|['melt butterscot...|a little differen...|['butterscotch ch...|            3|\n",
      "|  chinese  chop suey|  8559|     70|          4481|2001-01-27 00:00:00|['weeknight', 'ti...|395.4, 31.0, 20.0...|      8|['brown ground me...|easy one-pot dinn...|['celery', 'onion...|            7|\n",
      "|cream  of caulifl...| 23850|    110|          3288|2002-03-28 00:00:00|['lactose', 'week...|174.2, 4.0, 24.0,...|     10|['heat the oil or...|this is a dairy f...|['canola oil', 'o...|           16|\n",
      "+--------------------+------+-------+--------------+-------------------+--------------------+--------------------+-------+--------------------+--------------------+--------------------+-------------+\n",
      "only showing top 20 rows"
     ]
    }
   ],
   "source": [
    "# Task 02 Cell 1 out of 2\n",
    "# 2.1 - string operations to remove square brakets\n",
    "raw_recipes_df = raw_recipes_df.withColumn('nutrition', F.regexp_replace('nutrition', \"[\\[\\]]\",\"\"))\n",
    "raw_recipes_df.show()"
   ]
  },
  {
   "cell_type": "code",
   "execution_count": 22,
   "id": "7c2a3cc8",
   "metadata": {},
   "outputs": [
    {
     "data": {
      "application/vnd.jupyter.widget-view+json": {
       "model_id": "33c5a758f33f47fbb5c2b88e16930389",
       "version_major": 2,
       "version_minor": 0
      },
      "text/plain": [
       "VBox()"
      ]
     },
     "metadata": {},
     "output_type": "display_data"
    },
    {
     "data": {
      "application/vnd.jupyter.widget-view+json": {
       "model_id": "",
       "version_major": 2,
       "version_minor": 0
      },
      "text/plain": [
       "FloatProgress(value=0.0, bar_style='info', description='Progress:', layout=Layout(height='25px', width='50%'),…"
      ]
     },
     "metadata": {},
     "output_type": "display_data"
    },
    {
     "name": "stdout",
     "output_type": "stream",
     "text": [
      "+--------------------+------+-------+--------------+-------------------+--------------------+--------------------+-------+--------------------+--------------------+--------------------+-------------+--------+-------------+---------+----------+-----------+-----------------+-----------------+\n",
      "|                name|    id|minutes|contributor_id|          submitted|                tags|           nutrition|n_steps|               steps|         description|         ingredients|n_ingredients|calories|total_fat_PDV|sugar_PDV|sodium_PDV|protein_PDV|saturated_fat_PDV|carbohydrates_PDV|\n",
      "+--------------------+------+-------+--------------+-------------------+--------------------+--------------------+-------+--------------------+--------------------+--------------------+-------------+--------+-------------+---------+----------+-----------+-----------------+-----------------+\n",
      "|arriba   baked wi...|137739|     55|         47892|2005-09-16 00:00:00|['60-minutes-or-l...|51.5, 0.0, 13.0, ...|     11|['make a choice a...|autumn is my favo...|['winter squash',...|            7|    51.5|          0.0|     13.0|       0.0|        2.0|              0.0|              4.0|\n",
      "|a bit different  ...| 31490|     30|         26278|2002-06-17 00:00:00|['30-minutes-or-l...|173.4, 18.0, 0.0,...|      9|['preheat oven to...|this recipe calls...|['prepared pizza ...|            6|   173.4|         18.0|      0.0|      17.0|       22.0|             35.0|              1.0|\n",
      "|all in the kitche...|112140|    130|        196586|2005-02-25 00:00:00|['time-to-make', ...|269.8, 22.0, 32.0...|      6|['brown ground be...|this modified ver...|['ground beef', '...|           13|   269.8|         22.0|     32.0|      48.0|       39.0|             27.0|              5.0|\n",
      "|  alouette  potatoes| 59389|     45|         68585|2003-04-14 00:00:00|['60-minutes-or-l...|368.1, 17.0, 10.0...|     11|['place potatoes ...|this is a super e...|['spreadable chee...|           11|   368.1|         17.0|     10.0|       2.0|       14.0|              8.0|             20.0|\n",
      "|amish  tomato ket...| 44061|    190|         41706|2002-10-25 00:00:00|['weeknight', 'ti...|352.9, 1.0, 337.0...|      5|['mix all ingredi...|my dh's amish mot...|['tomato juice', ...|            8|   352.9|          1.0|    337.0|      23.0|        3.0|              0.0|             28.0|\n",
      "|apple a day  milk...|  5289|      0|          1533|1999-12-06 00:00:00|['15-minutes-or-l...|160.2, 10.0, 55.0...|      4|['combine ingredi...|                    |['milk', 'vanilla...|            4|   160.2|         10.0|     55.0|       3.0|        9.0|             20.0|              7.0|\n",
      "|aww  marinated ol...| 25274|     15|         21730|2002-04-14 00:00:00|['15-minutes-or-l...|380.7, 53.0, 7.0,...|      4|['toast the fenne...|my italian mil wa...|['fennel seeds', ...|            9|   380.7|         53.0|      7.0|      24.0|        6.0|             24.0|              6.0|\n",
      "|backyard style  b...| 67888|    120|         10404|2003-07-30 00:00:00|['weeknight', 'ti...|1109.5, 83.0, 378...|     10|['in a medium sau...|this recipe is po...|['pork spareribs'...|           22|  1109.5|         83.0|    378.0|     275.0|       96.0|             86.0|             36.0|\n",
      "|bananas 4 ice cre...| 70971|    180|        102353|2003-09-10 00:00:00|['weeknight', 'ti...|4270.8, 254.0, 13...|      8|['crumble cookies...|                    |['chocolate sandw...|            6|  4270.8|        254.0|   1306.0|     111.0|      127.0|            431.0|            220.0|\n",
      "|beat this  banana...| 75452|     70|         15892|2003-11-04 00:00:00|['weeknight', 'ti...|2669.3, 160.0, 97...|     12|['preheat oven to...| from ann hodgman's |['sugar', 'unsalt...|            9|  2669.3|        160.0|    976.0|     107.0|       62.0|            310.0|            138.0|\n",
      "|berry  good sandw...|109439|      5|         49168|2005-01-25 00:00:00|['15-minutes-or-l...|79.2, 3.0, 58.0, ...|      2|['in medium size ...|horseradish is on...|['whole berry cra...|            3|    79.2|          3.0|     58.0|       0.0|        0.0|              6.0|              5.0|\n",
      "|better than sex  ...| 42198|   1460|         41531|2002-10-03 00:00:00|['weeknight', 'ti...|734.1, 66.0, 199....|      8|['crush vanilla w...|simple but sexy. ...|['vanilla wafers'...|            7|   734.1|         66.0|    199.0|      10.0|       10.0|            117.0|             28.0|\n",
      "|better then bush ...| 67547|   2970|         85627|2003-07-26 00:00:00|['weeknight', 'ti...|462.4, 28.0, 214....|      9|['in a very large...|i'd have to say t...|['great northern ...|           13|   462.4|         28.0|    214.0|      69.0|       14.0|             29.0|             23.0|\n",
      "|boat house  colla...|107517|    525|        137696|2005-01-03 00:00:00|['time-to-make', ...|315.8, 0.0, 202.0...|      7|['put prepared gr...|my boss gave me t...|['collard greens'...|            7|   315.8|          0.0|    202.0|       9.0|        6.0|              0.0|             21.0|\n",
      "|calm your nerves ...| 39959|      5|         37449|2002-09-10 00:00:00|['15-minutes-or-l...|8.2, 0.0, 0.0, 0....|      6|['combine herbs',...|this will prove a...|['gentian root', ...|            5|     8.2|          0.0|      0.0|       0.0|        1.0|              0.0|              0.0|\n",
      "|chicken lickin  g...| 63986|    500|         14664|2003-06-06 00:00:00|['weeknight', 'ti...|105.7, 8.0, 0.0, ...|      5|['dredge pork cho...|here's and old st...|['lean pork chops...|            7|   105.7|          8.0|      0.0|      26.0|        5.0|              4.0|              3.0|\n",
      "|      chile rellenos| 43026|     45|         52268|2002-10-14 00:00:00|['60-minutes-or-l...|94.0, 10.0, 0.0, ...|      9|['drain green chi...|a favorite from a...|['egg roll wrap',...|            5|    94.0|         10.0|      0.0|      11.0|       11.0|             21.0|              0.0|\n",
      "|      chinese  candy| 23933|     15|         35268|2002-03-29 00:00:00|['15-minutes-or-l...|232.7, 21.0, 77.0...|      4|['melt butterscot...|a little differen...|['butterscotch ch...|            3|   232.7|         21.0|     77.0|       4.0|        6.0|             38.0|              8.0|\n",
      "|  chinese  chop suey|  8559|     70|          4481|2001-01-27 00:00:00|['weeknight', 'ti...|395.4, 31.0, 20.0...|      8|['brown ground me...|easy one-pot dinn...|['celery', 'onion...|            7|   395.4|         31.0|     20.0|      29.0|       51.0|             33.0|              8.0|\n",
      "|cream  of caulifl...| 23850|    110|          3288|2002-03-28 00:00:00|['lactose', 'week...|174.2, 4.0, 24.0,...|     10|['heat the oil or...|this is a dairy f...|['canola oil', 'o...|           16|   174.2|          4.0|     24.0|       1.0|       15.0|              1.0|             10.0|\n",
      "+--------------------+------+-------+--------------+-------------------+--------------------+--------------------+-------+--------------------+--------------------+--------------------+-------------+--------+-------------+---------+----------+-----------+-----------------+-----------------+\n",
      "only showing top 20 rows"
     ]
    }
   ],
   "source": [
    "# Task 02 Cell 2 out of 3\n",
    "# STEP 2.2 - split the neutrition string into seven individial values. \n",
    "# Create an object to split the nutrition column\n",
    "\n",
    "nutrition_cols_split = F.split(raw_recipes_df['nutrition'], ',') # pyspark function to split values based on a delimiter.  \n",
    "\n",
    "# Write a loop to extract individual values from the nutrition column\n",
    "\n",
    "for col_index, col_name in enumerate(nutrition_column_names):\n",
    "    raw_recipes_df = (raw_recipes_df.withColumn(col_name,nutrition_cols_split.getItem(col_index).cast('float')))\n",
    "raw_recipes_df.show()"
   ]
  },
  {
   "cell_type": "markdown",
   "id": "056898fa",
   "metadata": {},
   "source": [
    "Hint: [Visit this page to learn more about splitting columns](https://sparkbyexamples.com/pyspark/pyspark-split-dataframe-column-into-multiple-columns/)"
   ]
  },
  {
   "cell_type": "markdown",
   "id": "4763390d",
   "metadata": {},
   "source": [
    "**Test cases for task 02**"
   ]
  },
  {
   "cell_type": "code",
   "execution_count": 23,
   "id": "7323e7ff",
   "metadata": {
    "scrolled": true
   },
   "outputs": [
    {
     "data": {
      "application/vnd.jupyter.widget-view+json": {
       "model_id": "44c906a85c7148ca9def995bd14fa7fc",
       "version_major": 2,
       "version_minor": 0
      },
      "text/plain": [
       "VBox()"
      ]
     },
     "metadata": {},
     "output_type": "display_data"
    },
    {
     "data": {
      "application/vnd.jupyter.widget-view+json": {
       "model_id": "",
       "version_major": 2,
       "version_minor": 0
      },
      "text/plain": [
       "FloatProgress(value=0.0, bar_style='info', description='Progress:', layout=Layout(height='25px', width='50%'),…"
      ]
     },
     "metadata": {},
     "output_type": "display_data"
    }
   ],
   "source": [
    "# Code check cell\n",
    "# Do not edit cells with assert commands\n",
    "# If an error is shown after running this cell, please recheck your code.  \n",
    "\n",
    "assert raw_recipes_df.schema[\"carbohydrates_PDV\"].dataType == FloatType(), \"Recheck your typecasting\"\n",
    "assert raw_recipes_df.collect()[123432][14] == 62.0, \"The columns have not been split correctly.\"\n",
    "assert raw_recipes_df.collect()[10000][12] == 60.400001525878906, \"The columns have not been split correctly.\""
   ]
  },
  {
   "cell_type": "markdown",
   "id": "e2c7c87c",
   "metadata": {},
   "source": [
    " #### <font color='red'>If all test cases pass task 02 ends </font>"
   ]
  },
  {
   "cell_type": "markdown",
   "id": "0eb0277c",
   "metadata": {},
   "source": [
    "## Make nutrition-per-100 calorie columns\n",
    "\n",
    "By converting the nutrition values from absolute to relative terms, we ensure that portion size is not a factor in the analysis. \n"
   ]
  },
  {
   "cell_type": "markdown",
   "id": "8ac526a5",
   "metadata": {},
   "source": [
    "Naming convention: Original column name ```total fat (PDV)```, column name after column ```total_fat_per_100_cal```"
   ]
  },
  {
   "cell_type": "markdown",
   "id": "55662bc0",
   "metadata": {},
   "source": [
    "## <font color='red'>Task 03: Standardize the nutrition values </font>"
   ]
  },
  {
   "cell_type": "markdown",
   "id": "28dd54ed",
   "metadata": {},
   "source": [
    "<font color='red'>\n",
    "The current values for nutrition columns are not on the same scale. \n",
    "Your task is to standardize the nutrition columns using calories as the base of standardization. \n",
    "\n",
    "Convert the nutrition from absolute values to per 100 calorie values. \n",
    "</font>"
   ]
  },
  {
   "cell_type": "markdown",
   "id": "40ca70f8",
   "metadata": {},
   "source": [
    "<font color='red'>\n",
    "    \n",
    "We will use the  ```sugar (PDV)``` column to demonstrate the calculations for standardization.  \n",
    "\n",
    "</font>"
   ]
  },
  {
   "attachments": {
    "task3.01.png": {
     "image/png": "[encoded data removed]"
    }
   },
   "cell_type": "markdown",
   "id": "892a8590",
   "metadata": {},
   "source": [
    "![task3.01.png](attachment:task3.01.png)"
   ]
  },
  {
   "cell_type": "markdown",
   "id": "22596e49",
   "metadata": {},
   "source": [
    "<font color='red'>\n",
    "    \n",
    "**Sample Calculation**\n",
    "\n",
    "Before transformation: ```sugar (PDV)``` for recipe id 137739 = 13.0\n",
    "\n",
    "Calories in the recipe recipe id 137739                       = 51.5\n",
    "\n",
    "Calculation:  \n",
    "sugar_per_100_cal = 13.0 * 100 / 51.5 \n",
    "\n",
    "After transformation ```sugar_per_100_cal``` = 25.24\n",
    "    \n",
    "</font>"
   ]
  },
  {
   "cell_type": "markdown",
   "id": "3347a9de",
   "metadata": {},
   "source": [
    "<font color='red'>\n",
    "\n",
    "**Sample Input:** \n",
    "\n",
    "All nutrition columns except calories\n",
    "    \n",
    "</font>"
   ]
  },
  {
   "attachments": {
    "task3.02.png": {
     "image/png": "[encoded data removed]"
    }
   },
   "cell_type": "markdown",
   "id": "92ffc6fe",
   "metadata": {},
   "source": [
    "![task3.02.png](attachment:task3.02.png)"
   ]
  },
  {
   "cell_type": "markdown",
   "id": "2fff4ea7",
   "metadata": {},
   "source": [
    "<font color='red'>\n",
    "\n",
    "**Sample Output:** \n",
    "\n",
    "All nutrition columns standardized to per 100 calories \n",
    "    \n",
    "</font>"
   ]
  },
  {
   "attachments": {
    "task3.03.png": {
     "image/png": "[encoded data removed]"
    }
   },
   "cell_type": "markdown",
   "id": "d3306ed5",
   "metadata": {},
   "source": [
    "![task3.03.png](attachment:task3.03.png)"
   ]
  },
  {
   "cell_type": "markdown",
   "id": "b542d1c1",
   "metadata": {},
   "source": [
    "<font color='red'> We have included some test cases given below. You can use them to check if you have completed the task correctly.  </font>"
   ]
  },
  {
   "cell_type": "markdown",
   "id": "3affae2f",
   "metadata": {},
   "source": [
    "### <font color='blue'>Solution to Task 3 </font>"
   ]
  },
  {
   "cell_type": "markdown",
   "id": "56ee388a",
   "metadata": {},
   "source": [
    "<font color='blue'>Complete the code in the following cell</font>"
   ]
  },
  {
   "cell_type": "code",
   "execution_count": 24,
   "id": "237faab1",
   "metadata": {},
   "outputs": [
    {
     "data": {
      "application/vnd.jupyter.widget-view+json": {
       "model_id": "8707dee95b6a4bcdb096df56368d2b84",
       "version_major": 2,
       "version_minor": 0
      },
      "text/plain": [
       "VBox()"
      ]
     },
     "metadata": {},
     "output_type": "display_data"
    },
    {
     "data": {
      "application/vnd.jupyter.widget-view+json": {
       "model_id": "",
       "version_major": 2,
       "version_minor": 0
      },
      "text/plain": [
       "FloatProgress(value=0.0, bar_style='info', description='Progress:', layout=Layout(height='25px', width='50%'),…"
      ]
     },
     "metadata": {},
     "output_type": "display_data"
    }
   ],
   "source": [
    "# Task 03 Cell 1 out of 1\n",
    "\n",
    "for nutrition_col in nutrition_column_names:# loop over each of the newly created nutrition columns \n",
    "    if nutrition_col != 'calories':# the calories column should not be a part of the transformation exercise\n",
    "        # following code will name the new columns \n",
    "        nutrition_per_100_cal_col = (nutrition_col\n",
    "                                 .replace('_PDV','')\n",
    "                                 +'_per_100_cal')\n",
    "        raw_recipes_df = raw_recipes_df.withColumn(nutrition_per_100_cal_col,raw_recipes_df[nutrition_col]*100/raw_recipes_df[\"calories\"]\n",
    "                                               # pyspark code to recreate the intended transformation \n",
    "                                                 )\n",
    "        \n",
    "        # You might end up adding nulls to the data because of our intended transformation. \n",
    "        # Perform a fill na operation to fill all the nulls with 0s. \n",
    "        # You must limit the scope of the fill na to the current column only. \n",
    "        \n",
    "    raw_recipes_df = raw_recipes_df.fillna(value=0,subset=[nutrition_per_100_cal_col])  # pyspark code to fill nulls with 0 in only the current nutrition_per_100_cal_col \n",
    "        "
   ]
  },
  {
   "cell_type": "markdown",
   "id": "d2656a22",
   "metadata": {},
   "source": [
    "**Test cases for Task 03**"
   ]
  },
  {
   "cell_type": "code",
   "execution_count": 25,
   "id": "8a97ad4c",
   "metadata": {},
   "outputs": [
    {
     "data": {
      "application/vnd.jupyter.widget-view+json": {
       "model_id": "3e3aa4ac42c943428d5f7b91483fd2f5",
       "version_major": 2,
       "version_minor": 0
      },
      "text/plain": [
       "VBox()"
      ]
     },
     "metadata": {},
     "output_type": "display_data"
    },
    {
     "data": {
      "application/vnd.jupyter.widget-view+json": {
       "model_id": "",
       "version_major": 2,
       "version_minor": 0
      },
      "text/plain": [
       "FloatProgress(value=0.0, bar_style='info', description='Progress:', layout=Layout(height='25px', width='50%'),…"
      ]
     },
     "metadata": {},
     "output_type": "display_data"
    }
   ],
   "source": [
    "# total fat check for id 28881\n",
    "assert raw_recipes_df.filter(\"id == 28881\").select('total_fat_per_100_cal').first()[0] == 0, \"total_fat_per_100_cal for recipe 28881 should be 0\"\n",
    "\n",
    "# total fat check for id 112140\n",
    "assert round(raw_recipes_df.filter(\"id == 112140\").select('total_fat_per_100_cal').first()[0]) == 8, \"total_fat_per_100_cal for recipe 112140 should be 8\"\n",
    "\n",
    "# checking for nulls\n",
    "for c in ['total_fat_per_100_cal','sugar_per_100_cal','sodium_per_100_cal','protein_per_100_cal',\n",
    "                          'saturated_fat_per_100_cal','carbohydrates_per_100_cal']:\n",
    "    assert raw_recipes_df.select(F.count(F.when(F.isnan(c) | F.col(c).isNull(), c)).alias(c)).collect()[0][0] == 0, \"There are Nulls in the data\""
   ]
  },
  {
   "cell_type": "markdown",
   "id": "77b2b456",
   "metadata": {},
   "source": [
    " #### <font color='red'>If all test cases pass task 03 ends </font>"
   ]
  },
  {
   "cell_type": "markdown",
   "id": "2bd6ac1d",
   "metadata": {},
   "source": [
    "## <font color='red'>Task 04: Convert the tags column from a string to an array of strings </font>"
   ]
  },
  {
   "cell_type": "markdown",
   "id": "41905c76",
   "metadata": {},
   "source": [
    "<font color='red'>\n",
    "    \n",
    "Currently, the tags column is a string column but holds an array of strings. \n",
    "\n",
    "Your task is to convert the tags columns from a string to an array of strings. \n",
    "    \n",
    "</font>"
   ]
  },
  {
   "cell_type": "markdown",
   "id": "08470494",
   "metadata": {},
   "source": [
    "<font color='red'>\n",
    "\n",
    "Remove ```[``` ```]``` ```'``` punctuation marks from the tags column. \n",
    "Split the tags column based on the comma delimiter. \n",
    "    \n",
    "\n",
    "</font>"
   ]
  },
  {
   "cell_type": "markdown",
   "id": "4b724846",
   "metadata": {},
   "source": [
    "<font color='red'>\n",
    "\n",
    "**Sample input**\n",
    "    \n",
    "Tags column in string datatype. \n",
    "    \n",
    "</font>"
   ]
  },
  {
   "attachments": {
    "task4.01.png": {
     "image/png": "[encoded data removed]"
    }
   },
   "cell_type": "markdown",
   "id": "61c53092",
   "metadata": {},
   "source": [
    "![task4.01.png](attachment:task4.01.png)"
   ]
  },
  {
   "cell_type": "markdown",
   "id": "d8d04cf2",
   "metadata": {},
   "source": [
    "<font color='red'>\n",
    "\n",
    "**Sample outout**\n",
    "    \n",
    "Tags column in array of ArrayType(StringType())  \n",
    "    \n",
    "</font>"
   ]
  },
  {
   "attachments": {
    "task4.02.png": {
     "image/png": "[encoded data removed]"
    }
   },
   "cell_type": "markdown",
   "id": "22614b82",
   "metadata": {},
   "source": [
    "![task4.02.png](attachment:task4.02.png)"
   ]
  },
  {
   "cell_type": "markdown",
   "id": "e7fe1ba7",
   "metadata": {},
   "source": [
    "<font color='red'> We have included some test cases given below. You can use them to check if you have completed the task correctly.  </font>"
   ]
  },
  {
   "cell_type": "markdown",
   "id": "a7580844",
   "metadata": {},
   "source": [
    "### <font color='blue'>Solution to Task 4 </font>"
   ]
  },
  {
   "cell_type": "markdown",
   "id": "98593e1f",
   "metadata": {},
   "source": [
    "<font color='blue'>Complete the code in the following cell</font>"
   ]
  },
  {
   "cell_type": "code",
   "execution_count": 34,
   "id": "c749ab84",
   "metadata": {},
   "outputs": [
    {
     "data": {
      "application/vnd.jupyter.widget-view+json": {
       "model_id": "21a0e65260b24cf8be9a107d5fdf6555",
       "version_major": 2,
       "version_minor": 0
      },
      "text/plain": [
       "VBox()"
      ]
     },
     "metadata": {},
     "output_type": "display_data"
    },
    {
     "data": {
      "application/vnd.jupyter.widget-view+json": {
       "model_id": "",
       "version_major": 2,
       "version_minor": 0
      },
      "text/plain": [
       "FloatProgress(value=0.0, bar_style='info', description='Progress:', layout=Layout(height='25px', width='50%'),…"
      ]
     },
     "metadata": {},
     "output_type": "display_data"
    }
   ],
   "source": [
    "# Task 04 Cell 1 out of 1\n",
    "\n",
    "raw_recipes_df = raw_recipes_df.withColumn('tags',(F.regexp_replace(\"tags\",\"[\\\\[\\\\]\\\\']\",\"\"))\n",
    " # pyspark function to remove symbols like '[' ']' \"'\" from the strings in the tags column.\n",
    "                             \n",
    "                                .withColumn('tags',split(col(\"tags\"),\",\").cast(ArrayType(StringType())).alias(\"tags\")\n",
    "# pyspark function to split the column using the comma delimiter.\n",
    "                                           ))"
   ]
  },
  {
   "cell_type": "code",
   "execution_count": 35,
   "id": "b49facf5",
   "metadata": {},
   "outputs": [
    {
     "data": {
      "application/vnd.jupyter.widget-view+json": {
       "model_id": "ed44885fb7e94dfabf802b9077ff673c",
       "version_major": 2,
       "version_minor": 0
      },
      "text/plain": [
       "VBox()"
      ]
     },
     "metadata": {},
     "output_type": "display_data"
    },
    {
     "data": {
      "application/vnd.jupyter.widget-view+json": {
       "model_id": "",
       "version_major": 2,
       "version_minor": 0
      },
      "text/plain": [
       "FloatProgress(value=0.0, bar_style='info', description='Progress:', layout=Layout(height='25px', width='50%'),…"
      ]
     },
     "metadata": {},
     "output_type": "display_data"
    },
    {
     "name": "stdout",
     "output_type": "stream",
     "text": [
      "+------+--------------------+\n",
      "|    id|                tags|\n",
      "+------+--------------------+\n",
      "|137739|[60-minutes-or-le...|\n",
      "| 31490|[30-minutes-or-le...|\n",
      "|112140|[time-to-make,  c...|\n",
      "| 59389|[60-minutes-or-le...|\n",
      "| 44061|[weeknight,  time...|\n",
      "|  5289|[15-minutes-or-le...|\n",
      "| 25274|[15-minutes-or-le...|\n",
      "| 67888|[weeknight,  time...|\n",
      "| 70971|[weeknight,  time...|\n",
      "| 75452|[weeknight,  time...|\n",
      "|109439|[15-minutes-or-le...|\n",
      "| 42198|[weeknight,  time...|\n",
      "| 67547|[weeknight,  time...|\n",
      "|107517|[time-to-make,  m...|\n",
      "| 39959|[15-minutes-or-le...|\n",
      "| 63986|[weeknight,  time...|\n",
      "| 43026|[60-minutes-or-le...|\n",
      "| 23933|[15-minutes-or-le...|\n",
      "|  8559|[weeknight,  time...|\n",
      "| 23850|[lactose,  weekni...|\n",
      "+------+--------------------+\n",
      "only showing top 20 rows"
     ]
    }
   ],
   "source": [
    "tags=raw_recipes_df['id','tags']\n",
    "tags.show()"
   ]
  },
  {
   "cell_type": "markdown",
   "id": "abea8362",
   "metadata": {},
   "source": [
    "**Test cases for Task 04**"
   ]
  },
  {
   "cell_type": "code",
   "execution_count": 36,
   "id": "493f28b6",
   "metadata": {},
   "outputs": [
    {
     "data": {
      "application/vnd.jupyter.widget-view+json": {
       "model_id": "f124216eadab4d41949e0ee6c83d789c",
       "version_major": 2,
       "version_minor": 0
      },
      "text/plain": [
       "VBox()"
      ]
     },
     "metadata": {},
     "output_type": "display_data"
    },
    {
     "data": {
      "application/vnd.jupyter.widget-view+json": {
       "model_id": "",
       "version_major": 2,
       "version_minor": 0
      },
      "text/plain": [
       "FloatProgress(value=0.0, bar_style='info', description='Progress:', layout=Layout(height='25px', width='50%'),…"
      ]
     },
     "metadata": {},
     "output_type": "display_data"
    },
    {
     "name": "stderr",
     "output_type": "stream",
     "text": [
      "An error was encountered:\n",
      "You have not split the string into an array.\n",
      "Traceback (most recent call last):\n",
      "AssertionError: You have not split the string into an array.\n",
      "\n"
     ]
    }
   ],
   "source": [
    "# Code check cell\n",
    "# Do not edit cells with assert commands\n",
    "# If an error is shown after running this cell, please recheck your code.  \n",
    "\n",
    "assert raw_recipes_df.schema[\"tags\"].dataType == ArrayType(StringType(), True), \"You have not split the string into an array.\"\n",
    "assert raw_recipes_df.collect()[2][5] == ['time-to-make','course', 'preparation', 'main-dish', 'chili', 'crock-pot-slow-cooker', 'dietary', 'equipment', '4-hours-or-less'], \"Recheck your string cleaning and splitting operations.\""
   ]
  },
  {
   "cell_type": "markdown",
   "id": "923e5db1",
   "metadata": {},
   "source": [
    "#### <font color='red'>If all test cases pass task 04 ends </font>"
   ]
  },
  {
   "cell_type": "markdown",
   "id": "96e3185b",
   "metadata": {},
   "source": [
    "## Join Recipe Data to Review Data"
   ]
  },
  {
   "cell_type": "code",
   "execution_count": 37,
   "id": "63fba4f5",
   "metadata": {},
   "outputs": [
    {
     "data": {
      "application/vnd.jupyter.widget-view+json": {
       "model_id": "87c90f4433f443498220e95a481fd641",
       "version_major": 2,
       "version_minor": 0
      },
      "text/plain": [
       "VBox()"
      ]
     },
     "metadata": {},
     "output_type": "display_data"
    },
    {
     "data": {
      "application/vnd.jupyter.widget-view+json": {
       "model_id": "",
       "version_major": 2,
       "version_minor": 0
      },
      "text/plain": [
       "FloatProgress(value=0.0, bar_style='info', description='Progress:', layout=Layout(height='25px', width='50%'),…"
      ]
     },
     "metadata": {},
     "output_type": "display_data"
    }
   ],
   "source": [
    "# Reading the second data set. \n",
    "# keep this cell unedited\n",
    "\n",
    "raw_ratings_df = (spark.read.csv(\"s3://demobucketpavi/RAW_interactions_cleaned.csv\", \n",
    "                                 header=True, \n",
    "                                 inferSchema= True)\n",
    "                  .withColumn(\"review_date\",  F.col(\"date\"))\n",
    "                  .drop(F.col(\"date\"))\n",
    "                  )"
   ]
  },
  {
   "cell_type": "code",
   "execution_count": 38,
   "id": "31b18096",
   "metadata": {},
   "outputs": [
    {
     "data": {
      "application/vnd.jupyter.widget-view+json": {
       "model_id": "b64cc5c1269640ba97d7e6c386d6801e",
       "version_major": 2,
       "version_minor": 0
      },
      "text/plain": [
       "VBox()"
      ]
     },
     "metadata": {},
     "output_type": "display_data"
    },
    {
     "data": {
      "application/vnd.jupyter.widget-view+json": {
       "model_id": "",
       "version_major": 2,
       "version_minor": 0
      },
      "text/plain": [
       "FloatProgress(value=0.0, bar_style='info', description='Progress:', layout=Layout(height='25px', width='50%'),…"
      ]
     },
     "metadata": {},
     "output_type": "display_data"
    },
    {
     "name": "stdout",
     "output_type": "stream",
     "text": [
      "root\n",
      " |-- user_id: integer (nullable = true)\n",
      " |-- recipe_id: integer (nullable = true)\n",
      " |-- rating: integer (nullable = true)\n",
      " |-- review: string (nullable = true)\n",
      " |-- review_date: timestamp (nullable = true)"
     ]
    }
   ],
   "source": [
    "raw_ratings_df.printSchema()"
   ]
  },
  {
   "cell_type": "code",
   "execution_count": 39,
   "id": "f4e8cac9",
   "metadata": {},
   "outputs": [
    {
     "data": {
      "application/vnd.jupyter.widget-view+json": {
       "model_id": "07fc9237e4134b888fff5c7a54ce1b51",
       "version_major": 2,
       "version_minor": 0
      },
      "text/plain": [
       "VBox()"
      ]
     },
     "metadata": {},
     "output_type": "display_data"
    },
    {
     "data": {
      "application/vnd.jupyter.widget-view+json": {
       "model_id": "",
       "version_major": 2,
       "version_minor": 0
      },
      "text/plain": [
       "FloatProgress(value=0.0, bar_style='info', description='Progress:', layout=Layout(height='25px', width='50%'),…"
      ]
     },
     "metadata": {},
     "output_type": "display_data"
    }
   ],
   "source": [
    "# Code check cell\n",
    "# Do not edit cells with assert commands\n",
    "# If an error is shown after running this cell, please recheck your code.  \n",
    "\n",
    "assert raw_ratings_df.count() == 1132367, \"There is a mistake in reading the data.\"\n",
    "assert len(raw_ratings_df.columns) == 5, \"There is a mistake in reading the data.\""
   ]
  },
  {
   "cell_type": "code",
   "execution_count": 40,
   "id": "17084afb",
   "metadata": {
    "scrolled": true
   },
   "outputs": [
    {
     "data": {
      "application/vnd.jupyter.widget-view+json": {
       "model_id": "b0dd3ea29be644d4a2d1c711695cb16a",
       "version_major": 2,
       "version_minor": 0
      },
      "text/plain": [
       "VBox()"
      ]
     },
     "metadata": {},
     "output_type": "display_data"
    },
    {
     "data": {
      "application/vnd.jupyter.widget-view+json": {
       "model_id": "",
       "version_major": 2,
       "version_minor": 0
      },
      "text/plain": [
       "FloatProgress(value=0.0, bar_style='info', description='Progress:', layout=Layout(height='25px', width='50%'),…"
      ]
     },
     "metadata": {},
     "output_type": "display_data"
    },
    {
     "name": "stdout",
     "output_type": "stream",
     "text": [
      "+-------+---------+------+--------------------+-------------------+\n",
      "|user_id|recipe_id|rating|              review|        review_date|\n",
      "+-------+---------+------+--------------------+-------------------+\n",
      "|  38094|    40893|     4|Great with a sala...|2003-02-17 00:00:00|\n",
      "|1293707|    40893|     5|So simple  so del...|2011-12-21 00:00:00|\n",
      "|   8937|    44394|     4|This worked very ...|2002-12-01 00:00:00|\n",
      "| 126440|    85009|     5|I made the Mexica...|2010-02-27 00:00:00|\n",
      "|  57222|    85009|     5|Made the cheddar ...|2011-10-01 00:00:00|\n",
      "+-------+---------+------+--------------------+-------------------+\n",
      "only showing top 5 rows"
     ]
    }
   ],
   "source": [
    "raw_ratings_df.show(5)"
   ]
  },
  {
   "cell_type": "markdown",
   "id": "9e6335b6",
   "metadata": {},
   "source": [
    "## <font color='red'>Task 05: Read the second data file </font>"
   ]
  },
  {
   "cell_type": "markdown",
   "id": "bb38527e",
   "metadata": {},
   "source": [
    "<font color='red'>\n",
    "\n",
    "Along with raw recipes data, we also have raw ratings data. \n",
    "\n",
    "The code to read the data is already written above. Your task is to join the raw ratings and raw recipes data. \n",
    "\n",
    "The resulting dataframe must have the same number of rows as in the raw ratings data. \n",
    "    \n",
    "Join both the dataframes using the recipie IDs.\n",
    "    \n",
    "</font>"
   ]
  },
  {
   "cell_type": "markdown",
   "id": "afe730a0",
   "metadata": {},
   "source": [
    "<font color='red'>\n",
    "    \n",
    "**Sample Input**\n",
    "    \n",
    "```raw recipes_df``` and ```raw_ratings_df```"
   ]
  },
  {
   "attachments": {
    "task5.01.png": {
     "image/png": "[encoded data removed]"
    }
   },
   "cell_type": "markdown",
   "id": "874180c3",
   "metadata": {},
   "source": [
    "![task5.01.png](attachment:task5.01.png)"
   ]
  },
  {
   "cell_type": "markdown",
   "id": "5408d705",
   "metadata": {},
   "source": [
    "<font color='red'>\n",
    "\n",
    "**Sample Output**\n",
    "\n",
    "Combined dataframe with 30 columns and 1132367 rows \n",
    "    \n",
    "</font>"
   ]
  },
  {
   "attachments": {
    "task5.02.png": {
     "image/png": "[encoded data removed]"
    }
   },
   "cell_type": "markdown",
   "id": "4f83c600",
   "metadata": {},
   "source": [
    "![task5.02.png](attachment:task5.02.png)"
   ]
  },
  {
   "cell_type": "markdown",
   "id": "e7f4fe5a",
   "metadata": {},
   "source": [
    "<font color='red'>\n",
    "\n",
    "**Calculation explanation** \n",
    "\n",
    "There are 25 columns in the ```raw_recipes_df``` and five in the ```raw_ratings_df```. So total columns in the combined dataframe 25 + 5 = 30\n",
    "\n",
    "The number of rows in the combined dataframe must be the same as the rows in the ```raw_ratings_df```. So total rows in combined dataframe 1132367\n",
    "    \n",
    "</font>"
   ]
  },
  {
   "cell_type": "markdown",
   "id": "dc7c934d",
   "metadata": {},
   "source": [
    "<font color='red'> We have included some test cases given below. You can use them to check if you have completed the task correctly.  </font>"
   ]
  },
  {
   "cell_type": "markdown",
   "id": "4f87f2f0",
   "metadata": {},
   "source": [
    "### <font color='blue'>Solution to Task 5 </font>\n",
    "\n",
    "<font color='blue'>Complete the code in the following cell</font>"
   ]
  },
  {
   "cell_type": "code",
   "execution_count": 46,
   "id": "800f2ecc",
   "metadata": {},
   "outputs": [
    {
     "data": {
      "application/vnd.jupyter.widget-view+json": {
       "model_id": "f89842a87ac94aab878e97f6707b2067",
       "version_major": 2,
       "version_minor": 0
      },
      "text/plain": [
       "VBox()"
      ]
     },
     "metadata": {},
     "output_type": "display_data"
    },
    {
     "data": {
      "application/vnd.jupyter.widget-view+json": {
       "model_id": "",
       "version_major": 2,
       "version_minor": 0
      },
      "text/plain": [
       "FloatProgress(value=0.0, bar_style='info', description='Progress:', layout=Layout(height='25px', width='50%'),…"
      ]
     },
     "metadata": {},
     "output_type": "display_data"
    }
   ],
   "source": [
    "# Task 05 Cell 1 out of 1\n",
    "\n",
    "interaction_level_df = raw_ratings_df.join(raw_recipes_df,raw_ratings_df.recipe_id==raw_recipes_df.id,\"inner\"                         \n",
    "                                           # add the key on which the join should happen\n",
    "                                           # mention the type of join expected. \n",
    "                                            )\n"
   ]
  },
  {
   "cell_type": "markdown",
   "id": "1a20faf3",
   "metadata": {},
   "source": [
    "**Test cases for Task 05**"
   ]
  },
  {
   "cell_type": "code",
   "execution_count": 47,
   "id": "7a59d3cb",
   "metadata": {
    "scrolled": true
   },
   "outputs": [
    {
     "data": {
      "application/vnd.jupyter.widget-view+json": {
       "model_id": "1b49dfb1dbbd4d9098a11e29eadcfb9d",
       "version_major": 2,
       "version_minor": 0
      },
      "text/plain": [
       "VBox()"
      ]
     },
     "metadata": {},
     "output_type": "display_data"
    },
    {
     "data": {
      "application/vnd.jupyter.widget-view+json": {
       "model_id": "",
       "version_major": 2,
       "version_minor": 0
      },
      "text/plain": [
       "FloatProgress(value=0.0, bar_style='info', description='Progress:', layout=Layout(height='25px', width='50%'),…"
      ]
     },
     "metadata": {},
     "output_type": "display_data"
    }
   ],
   "source": [
    "# Code check cell\n",
    "# Do not edit cells with assert commands\n",
    "# If an error is shown after running this cell, please recheck your code.  \n",
    "\n",
    "(interaction_level_df.count() ,len(interaction_level_df.columns)) == (1132367, 30), \"The type of join is incorrect\"\n",
    "\n",
    "list1 = raw_ratings_df.select('recipe_id').collect()\n",
    "list2 = raw_recipes_df.select('id').collect()\n",
    "exclusive_set = set(list1)-set(list2)\n",
    "\n",
    "assert len(exclusive_set) == 0, \"There is a mistake in reading one of the two data files.\""
   ]
  },
  {
   "cell_type": "markdown",
   "id": "0b84f908",
   "metadata": {},
   "source": [
    "#### <font color='red'>If all test cases pass task 05 ends </font>"
   ]
  },
  {
   "cell_type": "markdown",
   "id": "470302a4",
   "metadata": {},
   "source": [
    "## <font color='red'>Task 06:  Create time-based features</font>\n"
   ]
  },
  {
   "cell_type": "markdown",
   "id": "41a69cd3",
   "metadata": {},
   "source": [
    "<font color='red'>\n",
    "\n",
    "Currently, both the date columns, the submitted date, and the review date are in string forms. \n",
    "    \n",
    "First convert the ```submitted``` and ```review_date``` to DateType()\n",
    "\n",
    "Use review date and submission date to derive new features:\n",
    "1. ```days_since_submission_on_review_date``` Number of days between the recipe submission and the current review.  \n",
    "2. ```months_since_submission_on_review_date``` Number of months between the recipe submission and the current review. \n",
    "3. ```years_since_submission_on_review_date```Number of years between the recipe submission and the current review. \n",
    "\n",
    "</font>"
   ]
  },
  {
   "cell_type": "markdown",
   "id": "a72e2573",
   "metadata": {},
   "source": [
    "<font color='red'>\n",
    "\n",
    "**Sample input**\n",
    "\n",
    "The following columns need to be used to calculate the time based features. \n",
    "    \n",
    "</font>"
   ]
  },
  {
   "attachments": {
    "task6.01.png": {
     "image/png": "[encoded data removed]"
    }
   },
   "cell_type": "markdown",
   "id": "538e9195",
   "metadata": {},
   "source": [
    "![task6.01.png](attachment:task6.01.png)"
   ]
  },
  {
   "cell_type": "markdown",
   "id": "34178367",
   "metadata": {},
   "source": [
    "<font color='red'>\n",
    "\n",
    "**Sample Output:**\n",
    "\n",
    "New date based features have been added to the interactions dataframe\n",
    "\n",
    "</font>"
   ]
  },
  {
   "attachments": {
    "task6.02.png": {
     "image/png": "[encoded data removed]"
    }
   },
   "cell_type": "markdown",
   "id": "82adcc3c",
   "metadata": {},
   "source": [
    "![task6.02.png](attachment:task6.02.png)"
   ]
  },
  {
   "cell_type": "markdown",
   "id": "3d410639",
   "metadata": {},
   "source": [
    "<font color='red'>\n",
    "\n",
    "**Sample Calculation**\n",
    "\n",
    "Recipe 40893 was submitted on 2002-09-21\n",
    "User 38094 reviewed recipe 40893 on 2003-02-17\n",
    "\n",
    "```days_since_submission_on_review_date``` number of calender days between 2002-09-21 and 2003-02-17 that is 149\n",
    "\n",
    "```months_since_submission_on_review_date``` number of calender months between 2002-09-21 and 2003-02-17 that is 4.87 (calculated by a pyspark function)\n",
    "\n",
    "```years_since_submission_on_review_date``` number of calender months divided by 12 that is 0.40\n",
    "    \n",
    "</font>"
   ]
  },
  {
   "cell_type": "markdown",
   "id": "dc67d3ac",
   "metadata": {},
   "source": [
    "### <font color='blue'>Solution to Task 6 </font>\n",
    "\n",
    "<font color='blue'>Complete the code in the following cell</font>"
   ]
  },
  {
   "cell_type": "code",
   "execution_count": 48,
   "id": "4325e82b",
   "metadata": {},
   "outputs": [
    {
     "data": {
      "application/vnd.jupyter.widget-view+json": {
       "model_id": "9fd15d0a70244eeb9977ed2c438b89b5",
       "version_major": 2,
       "version_minor": 0
      },
      "text/plain": [
       "VBox()"
      ]
     },
     "metadata": {},
     "output_type": "display_data"
    },
    {
     "data": {
      "application/vnd.jupyter.widget-view+json": {
       "model_id": "",
       "version_major": 2,
       "version_minor": 0
      },
      "text/plain": [
       "FloatProgress(value=0.0, bar_style='info', description='Progress:', layout=Layout(height='25px', width='50%'),…"
      ]
     },
     "metadata": {},
     "output_type": "display_data"
    }
   ],
   "source": [
    "# Task 06 Cell 1 out of 2\n",
    "\n",
    "interaction_level_df = (interaction_level_df\n",
    "                        .withColumn('submitted',F.col(\"submitted\").cast(\"date\") # pyspark function to cast a column to DateType()\n",
    "                                   )\n",
    "                        .withColumn('review_date',F.col(\"review_date\").cast(\"date\") # pyspark function to cast a column to DateType()\n",
    "                                   )\n",
    "                                             \n",
    "                       )\n",
    "\n"
   ]
  },
  {
   "cell_type": "code",
   "execution_count": 49,
   "id": "dc2f5452",
   "metadata": {
    "scrolled": false
   },
   "outputs": [
    {
     "data": {
      "application/vnd.jupyter.widget-view+json": {
       "model_id": "d73fa8fa35894b95a81b4b1850e43ca9",
       "version_major": 2,
       "version_minor": 0
      },
      "text/plain": [
       "VBox()"
      ]
     },
     "metadata": {},
     "output_type": "display_data"
    },
    {
     "data": {
      "application/vnd.jupyter.widget-view+json": {
       "model_id": "",
       "version_major": 2,
       "version_minor": 0
      },
      "text/plain": [
       "FloatProgress(value=0.0, bar_style='info', description='Progress:', layout=Layout(height='25px', width='50%'),…"
      ]
     },
     "metadata": {},
     "output_type": "display_data"
    }
   ],
   "source": [
    "interaction_level_df = (interaction_level_df\n",
    "                        .withColumn('days_since_submission_on_review_date',F.datediff(\"review_date\",\"submitted\")\n",
    "                                     # Pyspark function to find the number of days between two dates              \n",
    "                                   )\n",
    "                        .withColumn('months_since_submission_on_review_date',F.months_between(\"review_date\",\"submitted\")\n",
    "                                     # Pyspark function to find the number of months between two dates          \n",
    "                                   )\n",
    "                        .withColumn('years_since_submission_on_review_date',F.months_between(\"review_date\",\"submitted\")/12\n",
    "                                     # Pyspark function to find the number of months between two dates / 12          \n",
    "                                   )\n",
    "                         )"
   ]
  },
  {
   "cell_type": "markdown",
   "id": "32301322",
   "metadata": {},
   "source": [
    "**Test cases for Task 06**"
   ]
  },
  {
   "cell_type": "code",
   "execution_count": 50,
   "id": "416eb59e",
   "metadata": {},
   "outputs": [
    {
     "data": {
      "application/vnd.jupyter.widget-view+json": {
       "model_id": "4d5f91c52f5c452d93b90342bd7a3a64",
       "version_major": 2,
       "version_minor": 0
      },
      "text/plain": [
       "VBox()"
      ]
     },
     "metadata": {},
     "output_type": "display_data"
    },
    {
     "data": {
      "application/vnd.jupyter.widget-view+json": {
       "model_id": "",
       "version_major": 2,
       "version_minor": 0
      },
      "text/plain": [
       "FloatProgress(value=0.0, bar_style='info', description='Progress:', layout=Layout(height='25px', width='50%'),…"
      ]
     },
     "metadata": {},
     "output_type": "display_data"
    }
   ],
   "source": [
    "# Code check cell\n",
    "# Do not edit cells with assert commands\n",
    "# If an error is shown after running this cell, please recheck your code.  \n",
    "\n",
    "assert interaction_level_df.schema[\"days_since_submission_on_review_date\"].dataType == IntegerType()\n",
    "\n",
    "assert (interaction_level_df.filter((interaction_level_df.user_id == 428885) & (interaction_level_df.recipe_id == 335241))\n",
    "                            .select('days_since_submission_on_review_date').collect()[0][0]) == 77\n",
    "assert (interaction_level_df.filter((interaction_level_df.user_id == 2025676) & (interaction_level_df.recipe_id == 94265))\n",
    "                            .select('months_since_submission_on_review_date').collect()[0][0]) == 153.22580645\n",
    "assert (interaction_level_df.filter((interaction_level_df.user_id == 338588) & (interaction_level_df.recipe_id == 21859))\n",
    "                            .select('years_since_submission_on_review_date').collect()[0][0]) == 4.564516129166667"
   ]
  },
  {
   "cell_type": "markdown",
   "id": "3a764c83",
   "metadata": {},
   "source": [
    "#### <font color='red'>If all test cases pass task 06 ends</font>"
   ]
  },
  {
   "cell_type": "markdown",
   "id": "794e0e3e",
   "metadata": {},
   "source": [
    "## Save the data we have created so far in a parquet file. "
   ]
  },
  {
   "cell_type": "code",
   "execution_count": 51,
   "id": "24f6017a",
   "metadata": {
    "scrolled": false
   },
   "outputs": [
    {
     "data": {
      "application/vnd.jupyter.widget-view+json": {
       "model_id": "900cbf6e027e48268ac3b3ce61cab954",
       "version_major": 2,
       "version_minor": 0
      },
      "text/plain": [
       "VBox()"
      ]
     },
     "metadata": {},
     "output_type": "display_data"
    },
    {
     "data": {
      "application/vnd.jupyter.widget-view+json": {
       "model_id": "",
       "version_major": 2,
       "version_minor": 0
      },
      "text/plain": [
       "FloatProgress(value=0.0, bar_style='info', description='Progress:', layout=Layout(height='25px', width='50%'),…"
      ]
     },
     "metadata": {},
     "output_type": "display_data"
    },
    {
     "name": "stdout",
     "output_type": "stream",
     "text": [
      "root\n",
      " |-- user_id: integer (nullable = true)\n",
      " |-- recipe_id: integer (nullable = true)\n",
      " |-- rating: integer (nullable = true)\n",
      " |-- review: string (nullable = true)\n",
      " |-- review_date: date (nullable = true)\n",
      " |-- name: string (nullable = true)\n",
      " |-- minutes: integer (nullable = true)\n",
      " |-- contributor_id: integer (nullable = true)\n",
      " |-- submitted: date (nullable = true)\n",
      " |-- tags: array (nullable = true)\n",
      " |    |-- element: string (containsNull = false)\n",
      " |-- nutrition: string (nullable = true)\n",
      " |-- n_steps: integer (nullable = true)\n",
      " |-- steps: string (nullable = true)\n",
      " |-- description: string (nullable = true)\n",
      " |-- ingredients: string (nullable = true)\n",
      " |-- n_ingredients: integer (nullable = true)\n",
      " |-- calories: float (nullable = true)\n",
      " |-- total_fat_PDV: float (nullable = true)\n",
      " |-- sugar_PDV: float (nullable = true)\n",
      " |-- sodium_PDV: float (nullable = true)\n",
      " |-- protein_PDV: float (nullable = true)\n",
      " |-- saturated_fat_PDV: float (nullable = true)\n",
      " |-- carbohydrates_PDV: float (nullable = true)\n",
      " |-- calories_per_100_cal: double (nullable = false)\n",
      " |-- total_fat_per_100_cal: double (nullable = false)\n",
      " |-- sugar_per_100_cal: double (nullable = false)\n",
      " |-- sodium_per_100_cal: double (nullable = false)\n",
      " |-- protein_per_100_cal: double (nullable = false)\n",
      " |-- saturated_fat_per_100_cal: double (nullable = false)\n",
      " |-- carbohydrates_per_100_cal: double (nullable = false)\n",
      " |-- days_since_submission_on_review_date: integer (nullable = true)\n",
      " |-- months_since_submission_on_review_date: double (nullable = true)\n",
      " |-- years_since_submission_on_review_date: double (nullable = true)"
     ]
    }
   ],
   "source": [
    "interaction_level_df.printSchema()"
   ]
  },
  {
   "cell_type": "code",
   "execution_count": 52,
   "id": "07bca76b",
   "metadata": {},
   "outputs": [
    {
     "data": {
      "application/vnd.jupyter.widget-view+json": {
       "model_id": "81742021285940dbaf2b7d99c1746d14",
       "version_major": 2,
       "version_minor": 0
      },
      "text/plain": [
       "VBox()"
      ]
     },
     "metadata": {},
     "output_type": "display_data"
    },
    {
     "data": {
      "application/vnd.jupyter.widget-view+json": {
       "model_id": "",
       "version_major": 2,
       "version_minor": 0
      },
      "text/plain": [
       "FloatProgress(value=0.0, bar_style='info', description='Progress:', layout=Layout(height='25px', width='50%'),…"
      ]
     },
     "metadata": {},
     "output_type": "display_data"
    },
    {
     "name": "stdout",
     "output_type": "stream",
     "text": [
      "33"
     ]
    }
   ],
   "source": [
    "len(interaction_level_df.columns)"
   ]
  },
  {
   "cell_type": "code",
   "execution_count": 53,
   "id": "864a70a2",
   "metadata": {
    "scrolled": true
   },
   "outputs": [
    {
     "data": {
      "application/vnd.jupyter.widget-view+json": {
       "model_id": "b8aedbe7c65f4cc7b131f3ad4fb92648",
       "version_major": 2,
       "version_minor": 0
      },
      "text/plain": [
       "VBox()"
      ]
     },
     "metadata": {},
     "output_type": "display_data"
    },
    {
     "data": {
      "application/vnd.jupyter.widget-view+json": {
       "model_id": "",
       "version_major": 2,
       "version_minor": 0
      },
      "text/plain": [
       "FloatProgress(value=0.0, bar_style='info', description='Progress:', layout=Layout(height='25px', width='50%'),…"
      ]
     },
     "metadata": {},
     "output_type": "display_data"
    }
   ],
   "source": [
    "assert (interaction_level_df.count() ,len(interaction_level_df.columns) ) == (1132367, 33)"
   ]
  },
  {
   "cell_type": "code",
   "execution_count": 54,
   "id": "f66d1048",
   "metadata": {},
   "outputs": [
    {
     "data": {
      "application/vnd.jupyter.widget-view+json": {
       "model_id": "2fe04886ca4e465fa8254c0439938eee",
       "version_major": 2,
       "version_minor": 0
      },
      "text/plain": [
       "VBox()"
      ]
     },
     "metadata": {},
     "output_type": "display_data"
    },
    {
     "data": {
      "application/vnd.jupyter.widget-view+json": {
       "model_id": "",
       "version_major": 2,
       "version_minor": 0
      },
      "text/plain": [
       "FloatProgress(value=0.0, bar_style='info', description='Progress:', layout=Layout(height='25px', width='50%'),…"
      ]
     },
     "metadata": {},
     "output_type": "display_data"
    }
   ],
   "source": [
    "## Write the raw_recipes_df\n",
    "## create a folder named data in you current directry before running this. \n",
    "\n",
    "interaction_level_df.write.mode(\"overwrite\").parquet(\"s3://demobucketpavi/foodreceipe/interaction_level_df\")\n",
    "\n",
    "# interaction_level_df.write.parquet('interaction_level_df') # Modify the path as you need"
   ]
  },
  {
   "cell_type": "markdown",
   "id": "bc3a4b90",
   "metadata": {},
   "source": [
    "##### <center> Notebook 1 completed </center>"
   ]
  }
 ],
 "metadata": {
  "kernelspec": {
   "display_name": "Python 3 (ipykernel)",
   "language": "python",
   "name": "python3"
  },
  "language_info": {
   "codemirror_mode": {
    "name": "ipython",
    "version": 3
   },
   "file_extension": ".py",
   "mimetype": "text/x-python",
   "name": "python",
   "nbconvert_exporter": "python",
   "pygments_lexer": "ipython3",
   "version": "3.9.12"
  }
 },
 "nbformat": 4,
 "nbformat_minor": 5
}
